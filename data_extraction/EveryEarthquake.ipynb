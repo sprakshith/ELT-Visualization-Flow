{
 "cells": [
  {
   "cell_type": "code",
   "execution_count": 1,
   "id": "4b92d9dc-d0fd-4ed2-a5da-2f1fd54567dd",
   "metadata": {},
   "outputs": [],
   "source": [
    "import requests\n",
    "\n",
    "url = \"https://everyearthquake.p.rapidapi.com/all_month.json\"\n",
    "\n",
    "headers = {\n",
    "\t\"X-RapidAPI-Key\": \"0a3ca863bdmsh60e2c842874eda2p118de5jsn4256c483d3fd\",\n",
    "\t\"X-RapidAPI-Host\": \"everyearthquake.p.rapidapi.com\"\n",
    "}\n",
    "\n",
    "response = requests.get(url, headers=headers)\n",
    "\n",
    "response_json = response.json()"
   ]
  },
  {
   "cell_type": "code",
   "execution_count": 2,
   "id": "cfe53d8a-d838-49da-ace6-03439cd8ca14",
   "metadata": {},
   "outputs": [
    {
     "data": {
      "text/plain": [
       "dict_keys(['httpStatus', 'noun', 'verb', 'errorCode', 'errors', 'friendlyError', 'result', 'count', 'data'])"
      ]
     },
     "execution_count": 2,
     "metadata": {},
     "output_type": "execute_result"
    }
   ],
   "source": [
    "response_json.keys()"
   ]
  },
  {
   "cell_type": "code",
   "execution_count": 3,
   "id": "cde12b00-3e53-42ac-b446-c55f57b2c583",
   "metadata": {},
   "outputs": [
    {
     "data": {
      "text/plain": [
       "6894"
      ]
     },
     "execution_count": 3,
     "metadata": {},
     "output_type": "execute_result"
    }
   ],
   "source": [
    "response_json['count']"
   ]
  },
  {
   "cell_type": "code",
   "execution_count": 6,
   "id": "ca00de6a-1e48-4356-baf1-b72eec1001b9",
   "metadata": {},
   "outputs": [
    {
     "data": {
      "text/plain": [
       "43"
      ]
     },
     "execution_count": 6,
     "metadata": {},
     "output_type": "execute_result"
    }
   ],
   "source": [
    "len(response_json['data'][0].keys())"
   ]
  },
  {
   "cell_type": "code",
   "execution_count": null,
   "id": "b3d70a20-c22b-4b34-a966-bfa3a045d55b",
   "metadata": {},
   "outputs": [],
   "source": []
  }
 ],
 "metadata": {
  "kernelspec": {
   "display_name": "Python 3 (ipykernel)",
   "language": "python",
   "name": "python3"
  },
  "language_info": {
   "codemirror_mode": {
    "name": "ipython",
    "version": 3
   },
   "file_extension": ".py",
   "mimetype": "text/x-python",
   "name": "python",
   "nbconvert_exporter": "python",
   "pygments_lexer": "ipython3",
   "version": "3.10.0"
  }
 },
 "nbformat": 4,
 "nbformat_minor": 5
}
